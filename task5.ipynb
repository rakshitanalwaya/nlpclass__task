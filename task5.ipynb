{
  "nbformat": 4,
  "nbformat_minor": 0,
  "metadata": {
    "colab": {
      "name": "task5.ipynb",
      "version": "0.3.2",
      "provenance": []
    },
    "kernelspec": {
      "name": "python3",
      "display_name": "Python 3"
    }
  },
  "cells": [
    {
      "metadata": {
        "id": "Am-k2F5rUJ3N",
        "colab_type": "code",
        "colab": {
          "base_uri": "https://localhost:8080/",
          "height": 224
        },
        "outputId": "2cfd09ab-1366-4514-c6d7-5390f322386d"
      },
      "cell_type": "code",
      "source": [
        "import nltk\n",
        "nltk.download('averaged_perceptron_tagger')\n",
        "nltk.download('punkt')\n",
        "\n",
        "texts = [\"\"\"I need @claudiatenney of #NY22 to be re-elected in order to get our big plans moving. Her opponent would be a disaster. Nobody works harder than Claudia, and she is a producer. I look forward to working together with her - she has my Strongest Endorsement! Vote Claudia!\"\"\"]\n",
        "for text in texts:\n",
        "    sentences = nltk.sent_tokenize(text)\n",
        "    for sentence in sentences:\n",
        "        words = nltk.word_tokenize(sentence)\n",
        "        tagged_words = nltk.pos_tag(words)\n",
        "        print(tagged_words)\n"
      ],
      "execution_count": 6,
      "outputs": [
        {
          "output_type": "stream",
          "text": [
            "[nltk_data] Downloading package averaged_perceptron_tagger to\n",
            "[nltk_data]     /root/nltk_data...\n",
            "[nltk_data]   Package averaged_perceptron_tagger is already up-to-\n",
            "[nltk_data]       date!\n",
            "[nltk_data] Downloading package punkt to /root/nltk_data...\n",
            "[nltk_data]   Unzipping tokenizers/punkt.zip.\n",
            "[('I', 'PRP'), ('need', 'VBP'), ('@', 'JJ'), ('claudiatenney', 'NN'), ('of', 'IN'), ('#', '#'), ('NY22', 'NNP'), ('to', 'TO'), ('be', 'VB'), ('re-elected', 'JJ'), ('in', 'IN'), ('order', 'NN'), ('to', 'TO'), ('get', 'VB'), ('our', 'PRP$'), ('big', 'JJ'), ('plans', 'NNS'), ('moving', 'VBG'), ('.', '.')]\n",
            "[('Her', 'PRP$'), ('opponent', 'NN'), ('would', 'MD'), ('be', 'VB'), ('a', 'DT'), ('disaster', 'NN'), ('.', '.')]\n",
            "[('Nobody', 'NN'), ('works', 'VBZ'), ('harder', 'JJR'), ('than', 'IN'), ('Claudia', 'NNP'), (',', ','), ('and', 'CC'), ('she', 'PRP'), ('is', 'VBZ'), ('a', 'DT'), ('producer', 'NN'), ('.', '.')]\n",
            "[('I', 'PRP'), ('look', 'VBP'), ('forward', 'RB'), ('to', 'TO'), ('working', 'VBG'), ('together', 'RB'), ('with', 'IN'), ('her', 'PRP$'), ('-', ':'), ('she', 'PRP'), ('has', 'VBZ'), ('my', 'PRP$'), ('Strongest', 'NNP'), ('Endorsement', 'NN'), ('!', '.')]\n",
            "[('Vote', 'NNP'), ('Claudia', 'NNP'), ('!', '.')]\n"
          ],
          "name": "stdout"
        }
      ]
    }
  ]
}